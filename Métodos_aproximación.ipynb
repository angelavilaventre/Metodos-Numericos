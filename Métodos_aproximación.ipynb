{
  "nbformat": 4,
  "nbformat_minor": 0,
  "metadata": {
    "colab": {
      "name": "Métodos aproximación.ipynb",
      "provenance": [],
      "authorship_tag": "ABX9TyNXhvwqWfRRTn6WMYQtFNCB",
      "include_colab_link": true
    },
    "kernelspec": {
      "name": "python3",
      "display_name": "Python 3"
    },
    "language_info": {
      "name": "python"
    }
  },
  "cells": [
    {
      "cell_type": "markdown",
      "metadata": {
        "id": "view-in-github",
        "colab_type": "text"
      },
      "source": [
        "<a href=\"https://colab.research.google.com/github/angelavilaventre/Metodos-Numericos/blob/main/M%C3%A9todos_aproximaci%C3%B3n.ipynb\" target=\"_parent\"><img src=\"https://colab.research.google.com/assets/colab-badge.svg\" alt=\"Open In Colab\"/></a>"
      ]
    },
    {
      "cell_type": "markdown",
      "metadata": {
        "id": "OLQZiP_LVBLf"
      },
      "source": [
        "Librerías"
      ]
    },
    {
      "cell_type": "code",
      "metadata": {
        "id": "GfX3gCihG1rG"
      },
      "source": [
        "from sympy import *\n",
        "from numpy import *"
      ],
      "execution_count": 1,
      "outputs": []
    },
    {
      "cell_type": "markdown",
      "metadata": {
        "id": "_CpW5nVMFw9u"
      },
      "source": [
        "Interpolación"
      ]
    },
    {
      "cell_type": "code",
      "metadata": {
        "id": "bljDGRAxFwUP"
      },
      "source": [
        "def Interpolacion(puntos_x,puntos_y):\n",
        "  '''\n",
        "  puntos_x: vector de puntos del eje x,\n",
        "  puntos_y: vector de puntos del eje y,\n",
        "  '''\n",
        "  Li=[]\n",
        "  Pn=0\n",
        "  x=Symbol('x')\n",
        "\n",
        "  for i in range(0,len(puntos_y)):\n",
        "    k=1\n",
        "    for j in range(0,len(puntos_x)):\n",
        "      if i!=j:\n",
        "        k=k*((x-puntos_x[j])/(puntos_x[i]-puntos_x[j]))\n",
        "    Li.append(k)\n",
        "    Pn+=puntos_y[i]*Li[i]\n",
        "\n",
        "  print(\"Resultado: \"+ str(simplify(Pn)))\n",
        "  return Pn"
      ],
      "execution_count": 7,
      "outputs": []
    },
    {
      "cell_type": "markdown",
      "metadata": {
        "id": "qELLCeyHFDLM"
      },
      "source": [
        "Minimos Cuadrados</>"
      ]
    },
    {
      "cell_type": "code",
      "metadata": {
        "id": "-PMaByqbEpqN"
      },
      "source": [
        "def MinimosCuadrados(puntos_x,puntos_y):\n",
        "  '''\n",
        "  puntos_x: vector de puntos del eje x,\n",
        "  puntos_y: vector de puntos del eje y,\n",
        "  '''\n",
        "  Sxy=0\n",
        "  Sx=0\n",
        "  Sy=0\n",
        "  Sxx=0\n",
        "  n=len(puntos_x)\n",
        "\n",
        "  for i in range(0,len(puntos_x)):\n",
        "    Sxy+=puntos_x[i]*puntos_y[i]\n",
        "    Sx+=puntos_x[i]  \n",
        "    Sy+=puntos_y[i]\n",
        "    Sxx+=puntos_x[i]**2\n",
        "\n",
        "  a1=(n*Sxy-Sx*Sy)/(n*Sxx-Sx**2)\n",
        "  a0=(Sxx*Sy-Sxy*Sx)/(n*Sxx-Sx**2)\n",
        "\n",
        "  print(f\"a1= {a1}\\na0= {a0}\")\n",
        "  return a1,a0"
      ],
      "execution_count": 9,
      "outputs": []
    }
  ]
}