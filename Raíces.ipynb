{
  "nbformat": 4,
  "nbformat_minor": 0,
  "metadata": {
    "colab": {
      "name": "Raíces.ipynb",
      "provenance": [],
      "collapsed_sections": [],
      "authorship_tag": "ABX9TyO6SxRe50bVwbkETfgb6/1Q",
      "include_colab_link": true
    },
    "kernelspec": {
      "name": "python3",
      "display_name": "Python 3"
    },
    "language_info": {
      "name": "python"
    }
  },
  "cells": [
    {
      "cell_type": "markdown",
      "metadata": {
        "id": "view-in-github",
        "colab_type": "text"
      },
      "source": [
        "<a href=\"https://colab.research.google.com/github/angelavilaventre/Metodos-Numericos/blob/main/Ra%C3%ADces.ipynb\" target=\"_parent\"><img src=\"https://colab.research.google.com/assets/colab-badge.svg\" alt=\"Open In Colab\"/></a>"
      ]
    },
    {
      "cell_type": "markdown",
      "metadata": {
        "id": "IE1O4sKjPL97"
      },
      "source": [
        "Librerías"
      ]
    },
    {
      "cell_type": "code",
      "metadata": {
        "id": "t2rhMsbNPEah"
      },
      "source": [
        "import pandas as pd\n",
        "import sympy\n",
        "from sympy import *"
      ],
      "execution_count": 1,
      "outputs": []
    },
    {
      "cell_type": "markdown",
      "metadata": {
        "id": "Yz7W98ubPN85"
      },
      "source": [
        "Método de Bisección"
      ]
    },
    {
      "cell_type": "code",
      "metadata": {
        "id": "auunOIZyPRN-"
      },
      "source": [
        "def MetodoBiseccion(a,b,f,N=100,TOL=1e-100):\n",
        "  '''Método de Bisección, \n",
        "  a: primer punto, \n",
        "  b: segundo punto,\n",
        "  f: función matemática,\n",
        "  N: número de iteraciones, \n",
        "  TOL: tolerancia de error'''\n",
        "\n",
        "  c=0\n",
        "  i=0\n",
        "  estado=False\n",
        "\n",
        "  lista_a=[]\n",
        "  lista_b=[]\n",
        "  lista_c=[]\n",
        "  lista_TOL=[]\n",
        "  lista_fc=[]\n",
        "\n",
        "  if ((f.evalf(subs={x:a}))*(f.evalf(subs={x:b})))<0: \n",
        "    lista_TOL.append(0)\n",
        "    estado=True\n",
        "\n",
        "    while(estado):\n",
        "      \n",
        "\n",
        "      c=((a+b)/2)\n",
        "      lista_a.append(a)\n",
        "      lista_b.append(b)\n",
        "      lista_c.append(c)\n",
        "      lista_fc.append(f.evalf(subs={x:c}))\n",
        "      \n",
        "\n",
        "      if i>0:\n",
        "        lista_TOL.append(abs(lista_c[i]-lista_c[i-1]))\n",
        "        if lista_TOL[i]<=TOL: \n",
        "          break\n",
        "      \n",
        "      if (abs(f.evalf(subs={x:c})))<=TOL:\n",
        "        break\n",
        "      else:\n",
        "        if f.evalf(subs={x:a})*f.evalf(subs={x:c})<0: b=c\n",
        "        else: a=c\n",
        "\n",
        "      if i==N:\n",
        "        break\n",
        "\n",
        "      i+=1\n",
        "    \n",
        "  else: print(\"Intervalo incorrecto, encierra varias ó ninguna raíz. Inténtelo con otro intervalo. \")\n",
        "\n",
        "\n",
        "  datos = {\n",
        "  'a':lista_a,   \n",
        "  'b':lista_b,   \n",
        "  'c':lista_c,  \n",
        "  'TOL':lista_TOL,\n",
        "  'f(c)':lista_fc\n",
        "  }\n",
        "  df=pd.DataFrame(datos)\n",
        "  \n",
        "  print(f\"Se encontró una raiz en {c} despues de {i} iteraciones\")\n",
        "  return df"
      ],
      "execution_count": 7,
      "outputs": []
    },
    {
      "cell_type": "markdown",
      "metadata": {
        "id": "FXMVnc17PU0I"
      },
      "source": [
        "Método del Punto Fijo"
      ]
    },
    {
      "cell_type": "code",
      "metadata": {
        "id": "Bt8bXKK5PXKg"
      },
      "source": [
        "def MetodoFijo(p,F,N=1e2,TOL=1e-12):\n",
        "  '''Método de Punto Fijo, \n",
        "    p: punto inicial, \n",
        "    f: función matemática,\n",
        "    N: número de iteraciones, \n",
        "    TOL: tolerancia de error\n",
        "  '''\n",
        "\n",
        "  estado=True\n",
        "  lista_p=[]\n",
        "  lista_pi=[]\n",
        "  lista_TOL=[]\n",
        "  pi=0\n",
        "  i=0\n",
        "  \n",
        "  x= Symbol('x')\n",
        "  F=F\n",
        "  G=F+x\n",
        "\n",
        "  while(estado):\n",
        "    \n",
        "    pi=(G.subs(x,p))\n",
        "    lista_p.append(p)\n",
        "    lista_pi.append(pi)\n",
        "    lista_TOL.append(abs(p-pi))\n",
        "\n",
        "    if len(str(abs(pi-p)))>14: \n",
        "      print(\"Para el punto seleccionado, el metodo diverge. Por favor intente de nuevo con otro punto.\")\n",
        "      break\n",
        "    if abs(p-pi)<=TOL: \n",
        "      break  \n",
        "    else: \n",
        "      p=pi\n",
        "    \n",
        "    i+=1\n",
        "    if i==N: break\n",
        "\n",
        "  datos = {\n",
        "  'p':lista_p,   \n",
        "  'pi':lista_pi,   \n",
        "  'TOL':lista_TOL  \n",
        "  }\n",
        "  df=pd.DataFrame(datos)\n",
        "  \n",
        "  print(f\"Se halló una raiz en {p} despues de {i} iteraciones\")\n",
        "  return df"
      ],
      "execution_count": 5,
      "outputs": []
    },
    {
      "cell_type": "markdown",
      "metadata": {
        "id": "_gjAGvzhPfzW"
      },
      "source": [
        "Método de Newton-Raphson"
      ]
    },
    {
      "cell_type": "code",
      "metadata": {
        "id": "nJ3rLoA2Piq3"
      },
      "source": [
        "def MetodoNewtonRaphson(p0,f,N=200,TOL=1e-12):\n",
        "  '''Método de Newton-Raphson, \n",
        "  p0: punto inicial, \n",
        "  f: función matemática,\n",
        "  N: número de iteraciones, \n",
        "  TOL: tolerancia de error'''\n",
        "  \n",
        "  estado=True\n",
        "  lista_p0=[]\n",
        "  lista_pi=[]\n",
        "  lista_TOL=[0]\n",
        "  lista_f=[]\n",
        "  pi=0\n",
        "  i=0\n",
        "  den=0\n",
        "\n",
        "  f_prima=diff(f)\n",
        "\n",
        "  while(estado):\n",
        "    \n",
        "    if f_prima.subs(x,p0)!=0:\n",
        "      pi=p0-f.subs(x,p0)/f_prima.subs(x,p0)\n",
        "      lista_p0.append(float(p0))\n",
        "      lista_pi.append(float(pi))\n",
        "      lista_f.append(abs(f.evalf(subs={x:p0})))\n",
        "      if i>0:\n",
        "        lista_TOL.append(abs(f.evalf(subs={x:pi})-f.evalf(subs={x:p0})))\n",
        "        if abs(lista_TOL[i])<TOL: \n",
        "          break \n",
        "      p0=pi\n",
        "\n",
        "    else:\n",
        "      print(\"La derivada evualada en el punto \"+ str(p0) +\" es cero. El ciclo terminó luego de \"+str(i)+\" iteraciones.\")\n",
        "      break\n",
        "    \n",
        "    i+=1\n",
        "\n",
        "    if i==N: break\n",
        "\n",
        "  datos = {\n",
        "  'p':lista_p0,   \n",
        "  'pi':lista_pi,   \n",
        "  'TOL':lista_TOL,\n",
        "  'f(p)':lista_f  \n",
        "  }\n",
        "  df=pd.DataFrame(datos)\n",
        "\n",
        "  print(f\"Se halló una raiz en {float(p0)} despues de {i} iteraciones\")\n",
        "  return df"
      ],
      "execution_count": 6,
      "outputs": []
    }
  ]
}